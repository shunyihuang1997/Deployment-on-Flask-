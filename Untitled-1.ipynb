{
 "cells": [
  {
   "cell_type": "code",
   "execution_count": null,
   "metadata": {},
   "outputs": [],
   "source": [
    "  <head>\n",
    "    <meta charset=\"UTF-8\">\n",
    "    <title>ML API</title>\n",
    "    <link href='https://fonts.googleapis.com/css?family=Pacifico' rel='stylesheet' >\n",
    "  <link href='https://fonts.googleapis.com/css?family=Arimo' rel='stylesheet' >\n",
    "  <link href='https://fonts.googleapis.com/css?family=Hind:300' rel='stylesheet' >\n",
    "  <link href='https://fonts.googleapis.com/css?family=Open+Sans+Condensed:300' rel='stylesheet' >\n",
    "  \n",
    "\n",
    "</head>\n",
    "\n",
    "  \n",
    "  \n",
    "    <meta charset = \"UTF-8\">\n",
    "    <title> ML API </title>\n",
    "    <link href = 'https://fonts.googleapis.com/css?family=Pacifico' rel = 'stylesheet' type = 'text/css'>\n",
    "<link href = 'https://fonts.googleapis.com/css?family=Arimo' rel = 'stylesheet' type = 'text/css'>\n",
    "<link href = 'https://fonts.googleapis.com/css?family=Hind:300' rel = 'stylesheet' type = 'text/css'>\n",
    "<link href = 'https://fonts.googleapis.com/css?family=Open+Sans+Condensed:300' rel = 'stylesheet' type = 'text/css'>\n",
    "<link rel = 'stylesheet' href = \"{{ url_for('static', filename='css/style.css')   }}\">\n",
    "\n",
    "\n",
    "\n",
    "\n",
    "            <input type = 'text' name = 'remote_ratio' placeholder = 'Remote Ratio' required = 'required' />\n",
    "            <input type = 'text' name = 'company size' placeholder = 'Company Size' required = 'required' />\n",
    "            <input type = 'text' name = 'employee residence' placeholder = 'Employee Residence' required = 'required' />"
   ]
  }
 ],
 "metadata": {
  "kernelspec": {
   "display_name": "Python 3.9.13 64-bit (windows store)",
   "language": "python",
   "name": "python3"
  },
  "language_info": {
   "name": "python",
   "version": "3.9.13"
  },
  "orig_nbformat": 4,
  "vscode": {
   "interpreter": {
    "hash": "630476e5896a6d87ebf79419fb71f91a855f1bb5c5aac79a0c304ba34163b640"
   }
  }
 },
 "nbformat": 4,
 "nbformat_minor": 2
}
